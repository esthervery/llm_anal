{
 "cells": [
  {
   "cell_type": "markdown",
   "id": "b2350995",
   "metadata": {},
   "source": [
    "통계 분석을 위한 라이브러리 로드"
   ]
  },
  {
   "cell_type": "code",
   "execution_count": 4,
   "id": "b44d0ec1",
   "metadata": {},
   "outputs": [],
   "source": [
    "from scipy.stats import wilcoxon\n",
    "import scipy.stats as stats"
   ]
  },
  {
   "cell_type": "markdown",
   "id": "8e7925cf",
   "metadata": {},
   "source": [
    "우선 설문값이 정규분포를 따르는지 확인 -> 정규분포를 따르지 않는 것으로 나타남"
   ]
  },
  {
   "cell_type": "code",
   "execution_count": null,
   "id": "5964932f",
   "metadata": {},
   "outputs": [
    {
     "name": "stdout",
     "output_type": "stream",
     "text": [
      "Shapiro-Wilk 통계량: 0.9073286151510239\n",
      "p-value: 0.03087626578590826\n",
      "정규성 만족 X\n"
     ]
    }
   ],
   "source": [
    "# SA-10(16) 사전 점수 전체 리스트\n",
    "data = [\n",
    "    4.4, 2.0, 3.6, 4.4, 2.4, 1.8, 5.0, 3.8, 3.8, 4.2, 2.4, 1.6,\n",
    "    4.2, 4.0, 3.2, 4.4, 2.8, 3.6, 1.8, 2.4, 4.2, 2.2, 4.4, 2.2\n",
    "]\n",
    "\n",
    "# Shapiro-Wilk 정규성 검정 수행\n",
    "stat, p_value = stats.shapiro(data)\n",
    "\n",
    "print(\"Shapiro-Wilk 통계량:\", stat)\n",
    "print(\"p-value:\", p_value)\n",
    "\n",
    "alpha = 0.05\n",
    "if p_value > alpha: print(\"정규성 만족 (p > 0.05)\")\n",
    "else: print(\"정규성 만족 X\")"
   ]
  },
  {
   "cell_type": "markdown",
   "id": "7553b922",
   "metadata": {},
   "source": [
    "정규분포를 따르지 않기 때문에 t-test의 대체로 비모수 검정 수행(Wilcoxon)\n",
    "사전 보안 태도가 '높음'으로 분류되었던 그룹 (중앙값 기준)에서는 유의미한 향상이 확인되지 않았음"
   ]
  },
  {
   "cell_type": "code",
   "execution_count": null,
   "id": "b3ddd798",
   "metadata": {},
   "outputs": [
    {
     "name": "stdout",
     "output_type": "stream",
     "text": [
      "Wilcoxon 통계량 (W): 25.5\n",
      "p-value: 0.5859375\n",
      "통계적으로 유의미한 향상 확인되지 않음\n"
     ]
    }
   ],
   "source": [
    "# SA-10(16) '높음' 그룹\n",
    "post_scores = [\n",
    "    4.6, 3.0, 4.4, 5.0, 5.0, 3.6, 3.6,\n",
    "    3.8, 4.4, 4.6, 4.6, 4.2, 3.4\n",
    "]\n",
    "pre_scores = [\n",
    "    4.4, 3.6, 4.4, 5.0, 3.8, 3.8, 4.2,\n",
    "    4.2, 4.0, 4.4, 3.6, 4.2, 4.4\n",
    "]\n",
    "\n",
    "# Wilcoxon Signed-Rank Test 수행 (사후 > 사전)\n",
    "statistic, p_value = wilcoxon(post_scores, pre_scores, alternative='greater')\n",
    "\n",
    "# 결과 출력\n",
    "print(\"Wilcoxon 통계량 (W):\", statistic)\n",
    "print(\"p-value:\", p_value)\n",
    "\n",
    "# 유의 수준 5% 가정\n",
    "alpha = 0.05 \n",
    "if p_value < alpha: print(\"통계적으로 유의미한 향상 확인 (p < 0.05)\")\n",
    "else: print(\"통계적으로 유의미한 향상 확인되지 않음\")\n"
   ]
  },
  {
   "cell_type": "markdown",
   "id": "2a234405",
   "metadata": {},
   "source": [
    "'낮음'으로 분류되었던 그룹에서는 유의미한 향상이 확인됨"
   ]
  },
  {
   "cell_type": "code",
   "execution_count": null,
   "id": "2be8c438",
   "metadata": {},
   "outputs": [
    {
     "name": "stdout",
     "output_type": "stream",
     "text": [
      "Wilcoxon 통계량 (W): 66.0\n",
      "p-value: 0.00048828125\n",
      "통계적으로 유의미한 향상 확인 (p < 0.05)\n"
     ]
    }
   ],
   "source": [
    "# 사전 문항에서 중앙값을 기준으로 '높음'과 '낮음'으로 집단 분류 -> 낮은 집단에서 유의미성 확인\n",
    "post_scores = [4.2, 3.4, 5.0, 4.2, 4.4, 3.8, 3.4, 4.8, 4.4, 4.8, 3.8]\n",
    "pre_scores = [2.0, 2.4, 1.8, 2.4, 1.6, 3.2, 2.8, 1.8, 2.4, 2.2, 2.2]\n",
    "\n",
    "# Wilcoxon 부호 순위 검정 수행 (사후 점수가 사전보다 크다는 방향성 가정)\n",
    "statistic, p_value = wilcoxon(post_scores, pre_scores, alternative='greater')\n",
    "\n",
    "print(\"Wilcoxon 통계량 (W):\", statistic)\n",
    "print(\"p-value:\", p_value)\n",
    "\n",
    "# 유의 수준 5% 가정\n",
    "alpha = 0.05 \n",
    "if p_value < alpha: print(\"통계적으로 유의미한 향상 확인 (p < 0.05)\")\n",
    "else: print(\"통계적으로 유의미한 향상 확인되지 않음\")"
   ]
  },
  {
   "cell_type": "markdown",
   "id": "de8a6e28",
   "metadata": {},
   "source": [
    "SA-10(16) 문항을 기준으로 두 그룹 간의 HAIS-Q 점수 비교: Mann–Whitney U 검정\n",
    "라이브러리 불러오기"
   ]
  },
  {
   "cell_type": "code",
   "execution_count": 9,
   "id": "80e196c5",
   "metadata": {},
   "outputs": [],
   "source": [
    "from scipy.stats import mannwhitneyu"
   ]
  },
  {
   "cell_type": "code",
   "execution_count": null,
   "id": "b2b9b655",
   "metadata": {},
   "outputs": [
    {
     "name": "stdout",
     "output_type": "stream",
     "text": [
      "Mann–Whitney U 통계량: 73.5\n",
      "p-value: 0.9301385550286396\n",
      "SA-13 '높음', '낮음' 그룹 사이에서 HAIS-Q 점수에 차이가 나타나지 않음 (p < 0.05)\n"
     ]
    }
   ],
   "source": [
    "# SA-10(16) '낮음' 그룹의 HAIS-Q 점수\n",
    "haisq_low = [\n",
    "    4.0, 3.75, 4.375, 3.625, 4.125,\n",
    "    3.5, 4.25, 4.25, 5.0, 4.625, 4.125\n",
    "]\n",
    "# SA-10(16) '높음' 그룹의 HAIS-Q 점수\n",
    "haisq_high = [\n",
    "    4.25, 3.625, 4.25, 4.0, 3.875,\n",
    "    4.125, 3.625, 4.25, 4.0, 4.125,\n",
    "    4.875, 4.875, 4.625\n",
    "]\n",
    "\n",
    "# Mann–Whitney U 검정 (양측 검정)\n",
    "statistic, p_value = mannwhitneyu(haisq_high, haisq_low, alternative='two-sided')\n",
    "\n",
    "print(\"Mann–Whitney U 통계량:\", statistic)\n",
    "print(\"p-value:\", p_value)\n",
    "\n",
    "# 해석 조건\n",
    "alpha = 0.05\n",
    "if p_value < alpha: print(\"SA-13 '높음', '낮음' 그룹 사이에서 HAIS-Q 점수에 차이가 나타남 (p < 0.05)\")\n",
    "else: print(\"SA-13 '높음', '낮음' 그룹 사이에서 HAIS-Q 점수에 차이가 나타나지 않음 (p < 0.05)\")"
   ]
  },
  {
   "cell_type": "markdown",
   "id": "aa809d5d",
   "metadata": {},
   "source": [
    "SA-10(16) 회고형 사전 점수를 기준으로 분류한 보안 태도 '높음' 집단과 '낮음' 집단은, 교육 전 보안 인식 수준에서 차이를 보였으나, \n",
    "실습 이후 측정한 HAIS-Q 총합 점수에서는 통계적으로 유의미한 차이를 보이지 않는 것으로 확인됨\n",
    "(Mann–Whitney U = 73.5, p = 0.930)"
   ]
  },
  {
   "cell_type": "markdown",
   "id": "dc8322e1",
   "metadata": {},
   "source": [
    "SA-13 '낮음' 그룹에서 실제로 SA-16(10) 점수가 유의미하게 향상된 것을 바탕으로,\n",
    "이들이 자기 인식 평가 항목에서도 스스로 변화했다고 인식했는지 확인 \n",
    "Spearman 상관관계 분석을 통해 실제 변화량과 자기 평가 간의 긍정적 상관관계 파악을 목적으로 함"
   ]
  },
  {
   "cell_type": "code",
   "execution_count": 11,
   "id": "5fb8a3ed",
   "metadata": {},
   "outputs": [],
   "source": [
    "from scipy.stats import spearmanr"
   ]
  },
  {
   "cell_type": "code",
   "execution_count": 12,
   "id": "0ddceab6",
   "metadata": {},
   "outputs": [
    {
     "name": "stdout",
     "output_type": "stream",
     "text": [
      "Spearman 상관계수: 0.704504917567163\n",
      "p-value: 0.015498721927380563\n",
      "실제 SA-16(10) 척도 변화량과 자기 인식 평가 간 유의미한 상관관계 확인됨\n"
     ]
    }
   ],
   "source": [
    "sa16_change = [\n",
    "    2.2, 1, 3.2, 1.8, 2.8,\n",
    "    0.6, 0.6, 3, 2, 2.6, 1.6\n",
    "]  \n",
    "self_assessment = [\n",
    "    5, 4, 5, 4.25, 5, 4.5, 4, 4.5, 5, 4.75, 4.25\n",
    "]\n",
    "\n",
    "# Spearman 상관계수 계산\n",
    "corr, p_value = spearmanr(sa16_change, self_assessment)\n",
    "\n",
    "print(\"Spearman 상관계수:\", corr)\n",
    "print(\"p-value:\", p_value)\n",
    "\n",
    "# 해석\n",
    "if p_value < 0.05:\n",
    "    print(\"실제 SA-16(10) 척도 변화량과 자기 인식 평가 간 유의미한 상관관계 확인됨\")\n",
    "else: print(\"실제 SA-16(10) 척도 변화량과 자기 인식 평가 간 유의미한 상관관계 확인되지 않음\")"
   ]
  },
  {
   "cell_type": "markdown",
   "id": "3cec9297",
   "metadata": {},
   "source": [
    "양의 상관관계 (r = 0.705) 확인됨\n",
    ": 실제 SA-16 변화점수가 클수록, 스스로 “변화했다고 인식”하는 경향도 강함\n",
    "즉, SA-13 '낮음' 그룹의 사람들은 실제 행동 변화(SA-16 점수 증가)와 자기 인식 평가(스스로 변했다고 느낀 정도) 사이에 높은 정합성을 보임"
   ]
  }
 ],
 "metadata": {
  "kernelspec": {
   "display_name": "llm-anal",
   "language": "python",
   "name": "python3"
  },
  "language_info": {
   "codemirror_mode": {
    "name": "ipython",
    "version": 3
   },
   "file_extension": ".py",
   "mimetype": "text/x-python",
   "name": "python",
   "nbconvert_exporter": "python",
   "pygments_lexer": "ipython3",
   "version": "3.11.13"
  }
 },
 "nbformat": 4,
 "nbformat_minor": 5
}
